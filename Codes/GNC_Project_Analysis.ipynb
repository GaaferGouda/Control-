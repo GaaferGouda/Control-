{
 "cells": [
  {
   "cell_type": "markdown",
   "id": "4f9c2dae",
   "metadata": {},
   "source": [
    "# GNC Project - Step Response Analysis using Python\n",
    "This notebook demonstrates step responses for first-order and second-order systems using the `control` library."
   ]
  },
  {
   "cell_type": "code",
   "execution_count": null,
   "id": "a0b2e0de",
   "metadata": {},
   "outputs": [],
   "source": [
    "import numpy as np\n",
    "import matplotlib.pyplot as plt\n",
    "from control import tf, step_response, dcgain\n"
   ]
  },
  {
   "cell_type": "markdown",
   "id": "b696bad6",
   "metadata": {},
   "source": [
    "## Task 1: First-Order System (Varying T)\n",
    "System: $G(s) = \\frac{1}{Ts + 1}$"
   ]
  },
  {
   "cell_type": "code",
   "execution_count": null,
   "id": "f1aec0a5",
   "metadata": {},
   "outputs": [],
   "source": [
    "T_values = [0.1, 0.5, 1.0, 5.0, 10.0]\n",
    "t = np.linspace(0, 20, 1000)\n",
    "\n",
    "plt.figure()\n",
    "for T in T_values:\n",
    "    sys = tf([1], [T, 1])\n",
    "    t_out, y_out = step_response(sys, T=t)\n",
    "    plt.plot(t_out, y_out, label=f'T={T}')\n",
    "\n",
    "plt.legend()\n",
    "plt.title('Step Response for Different T')\n",
    "plt.xlabel('Time (s)')\n",
    "plt.ylabel('Amplitude')\n",
    "plt.grid(True)\n",
    "plt.show()\n"
   ]
  },
  {
   "cell_type": "markdown",
   "id": "a1333111",
   "metadata": {},
   "source": [
    "## Task 2: First-Order System (Varying k)\n",
    "System: $G(s) = \\frac{k}{s + 1}$"
   ]
  },
  {
   "cell_type": "code",
   "execution_count": null,
   "id": "3787cef6",
   "metadata": {},
   "outputs": [],
   "source": [
    "k_values = [0.1, 0.5, 1.0, 5.0, 10.0]\n",
    "\n",
    "plt.figure()\n",
    "for k in k_values:\n",
    "    sys = tf([k], [1, 1])\n",
    "    t_out, y_out = step_response(sys, T=t)\n",
    "    plt.plot(t_out, y_out, label=f'k={k}')\n",
    "\n",
    "plt.legend()\n",
    "plt.title('Step Response for Different k')\n",
    "plt.xlabel('Time (s)')\n",
    "plt.ylabel('Amplitude')\n",
    "plt.grid(True)\n",
    "plt.show()\n"
   ]
  },
  {
   "cell_type": "markdown",
   "id": "63d3c6d2",
   "metadata": {},
   "source": [
    "## Task 3: Second-Order System\n",
    "Equation: $\\ddot{y} + 3\\dot{y} + 2y = \\dot{u} + 2u$"
   ]
  },
  {
   "cell_type": "code",
   "execution_count": null,
   "id": "5baecac5",
   "metadata": {},
   "outputs": [],
   "source": [
    "num = [1, 2]\n",
    "den = [1, 3, 2]\n",
    "sys = tf(num, den)\n",
    "\n",
    "plt.figure()\n",
    "t_out, y_out = step_response(sys)\n",
    "plt.plot(t_out, y_out)\n",
    "plt.title('Second-Order System Step Response')\n",
    "plt.xlabel('Time (s)')\n",
    "plt.ylabel('Amplitude')\n",
    "plt.grid(True)\n",
    "plt.show()\n"
   ]
  },
  {
   "cell_type": "markdown",
   "id": "30bfadca",
   "metadata": {},
   "source": [
    "## Task 5: Closed-Loop System\n",
    "G(s) = 1 / (s+2), H(s) = 2 / (s+3)"
   ]
  },
  {
   "cell_type": "code",
   "execution_count": null,
   "id": "7b447cbc",
   "metadata": {},
   "outputs": [],
   "source": [
    "G = tf([1], [1, 2])\n",
    "H = tf([2], [1, 3])\n",
    "open_loop = G * H\n",
    "closed_loop = open_loop / (1 + open_loop)\n",
    "\n",
    "plt.figure()\n",
    "t_out, y_out = step_response(closed_loop)\n",
    "plt.plot(t_out, y_out)\n",
    "plt.title('Closed-Loop Step Response')\n",
    "plt.xlabel('Time (s)')\n",
    "plt.ylabel('Amplitude')\n",
    "plt.grid(True)\n",
    "plt.show()\n",
    "\n",
    "print(\"Final value:\", dcgain(closed_loop))\n"
   ]
  }
 ],
 "metadata": {},
 "nbformat": 4,
 "nbformat_minor": 5
}
